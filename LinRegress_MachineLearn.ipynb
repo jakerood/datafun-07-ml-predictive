{
 "cells": [
  {
   "cell_type": "markdown",
   "id": "7179c395-0455-4a49-86a8-3daf2ea03c98",
   "metadata": {},
   "source": [
    "# PRACTICE WITH LINEAR REGRESSION AND MACHINE LEARNING\n",
    "**AUTHOR**: [Jake Rood](https://github.com/jakerood)\n",
    "\n",
    "**REPOSITORY**: [datafun-07-ml-predictive](https://github.com/jakerood/datafun-07-ml-predictive)"
   ]
  },
  {
   "cell_type": "markdown",
   "id": "8bfec68c-283c-415c-bac3-ae07633001fe",
   "metadata": {},
   "source": [
    "## <span style=\"color: red;\">PART 1 - LINEAR REGRESSION</span>"
   ]
  },
  {
   "cell_type": "markdown",
   "id": "f66e0457-aa54-4fb9-93ba-8bda62cc897f",
   "metadata": {},
   "source": [
    "### <span style=\"color: red;\">PLOT CELSIUS vs. FAHRENHEIT</span>"
   ]
  },
  {
   "cell_type": "code",
   "execution_count": 1,
   "id": "2c93f1d3-733b-425b-9979-f909aa7634e2",
   "metadata": {},
   "outputs": [],
   "source": [
    "c = lambda f: 5 /9 * (f -32)"
   ]
  },
  {
   "cell_type": "code",
   "execution_count": 2,
   "id": "09338b2f-a2ce-43dd-856c-c7cec7267610",
   "metadata": {},
   "outputs": [],
   "source": [
    "temps = [(f, c(f)) for f in range(0, 101, 10)]"
   ]
  },
  {
   "cell_type": "code",
   "execution_count": 3,
   "id": "75ce1ad0-02e2-4259-a2ed-30c631069c0b",
   "metadata": {},
   "outputs": [],
   "source": [
    "# Import temps into a DataFrame\n",
    "import pandas as pd\n",
    "temps_df = pd.DataFrame(temps, columns=['Fahrenheit', 'Celsius'])"
   ]
  },
  {
   "cell_type": "code",
   "execution_count": 4,
   "id": "c01fbf8a-5f2b-48e6-827a-6c1bf436d402",
   "metadata": {},
   "outputs": [
    {
     "data": {
      "image/png": "[encoded data removed]",
      "text/plain": [
       "<Figure size 640x480 with 1 Axes>"
      ]
     },
     "metadata": {},
     "output_type": "display_data"
    }
   ],
   "source": [
    "# Display the linear relationship between the Fahrenheit and Celsius temperatures\n",
    "axes = temps_df.plot(x='Fahrenheit', y='Celsius', style='.-')\n",
    "y_label = axes.set_ylabel('Celsius')"
   ]
  },
  {
   "cell_type": "markdown",
   "id": "5385c5ec-d33b-489b-8103-f8d09e6a365f",
   "metadata": {},
   "source": [
    "### <span style=\"color: red;\">SECTION 1 - LOAD</span>"
   ]
  },
  {
   "cell_type": "code",
   "execution_count": 5,
   "id": "3e45d701-c157-40d1-8e33-ab8b417af67d",
   "metadata": {},
   "outputs": [],
   "source": [
    "# Load the New York City average high-temperature dataset into a DataFrame\n",
    "nyc = pd.read_csv('/Users/jakerood/Documents/NW_Missouri/IntroToPython-master/examples/ch10/ave_hi_nyc_jan_1895-2018.csv')"
   ]
  },
  {
   "cell_type": "markdown",
   "id": "a05aa0b1-8069-4050-b620-67607d288ad0",
   "metadata": {},
   "source": [
    "### <span style=\"color: red;\">SECTION 2 - VIEW</span>"
   ]
  },
  {
   "cell_type": "code",
   "execution_count": 6,
   "id": "ed808cc8-7fa0-4be8-b9f9-2bbaf3de7308",
   "metadata": {},
   "outputs": [
    {
     "data": {
      "text/html": [
       "<div>\n",
       "<style scoped>\n",
       "    .dataframe tbody tr th:only-of-type {\n",
       "        vertical-align: middle;\n",
       "    }\n",
       "\n",
       "    .dataframe tbody tr th {\n",
       "        vertical-align: top;\n",
       "    }\n",
       "\n",
       "    .dataframe thead th {\n",
       "        text-align: right;\n",
       "    }\n",
       "</style>\n",
       "<table border=\"1\" class=\"dataframe\">\n",
       "  <thead>\n",
       "    <tr style=\"text-align: right;\">\n",
       "      <th></th>\n",
       "      <th>Date</th>\n",
       "      <th>Value</th>\n",
       "      <th>Anomaly</th>\n",
       "    </tr>\n",
       "  </thead>\n",
       "  <tbody>\n",
       "    <tr>\n",
       "      <th>0</th>\n",
       "      <td>189501</td>\n",
       "      <td>34.2</td>\n",
       "      <td>-3.2</td>\n",
       "    </tr>\n",
       "    <tr>\n",
       "      <th>1</th>\n",
       "      <td>189601</td>\n",
       "      <td>34.7</td>\n",
       "      <td>-2.7</td>\n",
       "    </tr>\n",
       "    <tr>\n",
       "      <th>2</th>\n",
       "      <td>189701</td>\n",
       "      <td>35.5</td>\n",
       "      <td>-1.9</td>\n",
       "    </tr>\n",
       "    <tr>\n",
       "      <th>3</th>\n",
       "      <td>189801</td>\n",
       "      <td>39.6</td>\n",
       "      <td>2.2</td>\n",
       "    </tr>\n",
       "    <tr>\n",
       "      <th>4</th>\n",
       "      <td>189901</td>\n",
       "      <td>36.4</td>\n",
       "      <td>-1.0</td>\n",
       "    </tr>\n",
       "  </tbody>\n",
       "</table>\n",
       "</div>"
      ],
      "text/plain": [
       "     Date  Value  Anomaly\n",
       "0  189501   34.2     -3.2\n",
       "1  189601   34.7     -2.7\n",
       "2  189701   35.5     -1.9\n",
       "3  189801   39.6      2.2\n",
       "4  189901   36.4     -1.0"
      ]
     },
     "execution_count": 6,
     "metadata": {},
     "output_type": "execute_result"
    }
   ],
   "source": [
    "# View the head of the DataFrame\n",
    "nyc.head()"
   ]
  },
  {
   "cell_type": "code",
   "execution_count": 7,
   "id": "c2b89315-f26b-403a-a6ba-e0a1c26bec21",
   "metadata": {},
   "outputs": [
    {
     "data": {
      "text/html": [
       "<div>\n",
       "<style scoped>\n",
       "    .dataframe tbody tr th:only-of-type {\n",
       "        vertical-align: middle;\n",
       "    }\n",
       "\n",
       "    .dataframe tbody tr th {\n",
       "        vertical-align: top;\n",
       "    }\n",
       "\n",
       "    .dataframe thead th {\n",
       "        text-align: right;\n",
       "    }\n",
       "</style>\n",
       "<table border=\"1\" class=\"dataframe\">\n",
       "  <thead>\n",
       "    <tr style=\"text-align: right;\">\n",
       "      <th></th>\n",
       "      <th>Date</th>\n",
       "      <th>Value</th>\n",
       "      <th>Anomaly</th>\n",
       "    </tr>\n",
       "  </thead>\n",
       "  <tbody>\n",
       "    <tr>\n",
       "      <th>119</th>\n",
       "      <td>201401</td>\n",
       "      <td>35.5</td>\n",
       "      <td>-1.9</td>\n",
       "    </tr>\n",
       "    <tr>\n",
       "      <th>120</th>\n",
       "      <td>201501</td>\n",
       "      <td>36.1</td>\n",
       "      <td>-1.3</td>\n",
       "    </tr>\n",
       "    <tr>\n",
       "      <th>121</th>\n",
       "      <td>201601</td>\n",
       "      <td>40.8</td>\n",
       "      <td>3.4</td>\n",
       "    </tr>\n",
       "    <tr>\n",
       "      <th>122</th>\n",
       "      <td>201701</td>\n",
       "      <td>42.8</td>\n",
       "      <td>5.4</td>\n",
       "    </tr>\n",
       "    <tr>\n",
       "      <th>123</th>\n",
       "      <td>201801</td>\n",
       "      <td>38.7</td>\n",
       "      <td>1.3</td>\n",
       "    </tr>\n",
       "  </tbody>\n",
       "</table>\n",
       "</div>"
      ],
      "text/plain": [
       "       Date  Value  Anomaly\n",
       "119  201401   35.5     -1.9\n",
       "120  201501   36.1     -1.3\n",
       "121  201601   40.8      3.4\n",
       "122  201701   42.8      5.4\n",
       "123  201801   38.7      1.3"
      ]
     },
     "execution_count": 7,
     "metadata": {},
     "output_type": "execute_result"
    }
   ],
   "source": [
    "# And view the tail of the DataFrame\n",
    "nyc.tail()"
   ]
  },
  {
   "cell_type": "markdown",
   "id": "e123023f-143d-4ad4-aa4a-03e83bbda84e",
   "metadata": {},
   "source": [
    "### <span style=\"color: red;\">SECTION 3 - CLEAN</span>"
   ]
  },
  {
   "cell_type": "code",
   "execution_count": 8,
   "id": "80549f7e-40c5-455b-b07c-b34e2ab7a9dc",
   "metadata": {},
   "outputs": [
    {
     "data": {
      "text/html": [
       "<div>\n",
       "<style scoped>\n",
       "    .dataframe tbody tr th:only-of-type {\n",
       "        vertical-align: middle;\n",
       "    }\n",
       "\n",
       "    .dataframe tbody tr th {\n",
       "        vertical-align: top;\n",
       "    }\n",
       "\n",
       "    .dataframe thead th {\n",
       "        text-align: right;\n",
       "    }\n",
       "</style>\n",
       "<table border=\"1\" class=\"dataframe\">\n",
       "  <thead>\n",
       "    <tr style=\"text-align: right;\">\n",
       "      <th></th>\n",
       "      <th>Date</th>\n",
       "      <th>Temperature</th>\n",
       "      <th>Anomaly</th>\n",
       "    </tr>\n",
       "  </thead>\n",
       "  <tbody>\n",
       "    <tr>\n",
       "      <th>0</th>\n",
       "      <td>189501</td>\n",
       "      <td>34.2</td>\n",
       "      <td>-3.2</td>\n",
       "    </tr>\n",
       "    <tr>\n",
       "      <th>1</th>\n",
       "      <td>189601</td>\n",
       "      <td>34.7</td>\n",
       "      <td>-2.7</td>\n",
       "    </tr>\n",
       "    <tr>\n",
       "      <th>2</th>\n",
       "      <td>189701</td>\n",
       "      <td>35.5</td>\n",
       "      <td>-1.9</td>\n",
       "    </tr>\n",
       "    <tr>\n",
       "      <th>3</th>\n",
       "      <td>189801</td>\n",
       "      <td>39.6</td>\n",
       "      <td>2.2</td>\n",
       "    </tr>\n",
       "    <tr>\n",
       "      <th>4</th>\n",
       "      <td>189901</td>\n",
       "      <td>36.4</td>\n",
       "      <td>-1.0</td>\n",
       "    </tr>\n",
       "  </tbody>\n",
       "</table>\n",
       "</div>"
      ],
      "text/plain": [
       "     Date  Temperature  Anomaly\n",
       "0  189501         34.2     -3.2\n",
       "1  189601         34.7     -2.7\n",
       "2  189701         35.5     -1.9\n",
       "3  189801         39.6      2.2\n",
       "4  189901         36.4     -1.0"
      ]
     },
     "execution_count": 8,
     "metadata": {},
     "output_type": "execute_result"
    }
   ],
   "source": [
    "# Rename the 'Value' column as 'Temperature'\n",
    "nyc.columns = ['Date', 'Temperature', 'Anomaly']\n",
    "nyc.head()"
   ]
  },
  {
   "cell_type": "code",
   "execution_count": 9,
   "id": "78f0589c-97b0-4045-9b17-fca2f3199479",
   "metadata": {},
   "outputs": [
    {
     "data": {
      "text/plain": [
       "dtype('int64')"
      ]
     },
     "execution_count": 9,
     "metadata": {},
     "output_type": "execute_result"
    }
   ],
   "source": [
    "# Check the 'Date' column's type\n",
    "nyc.Date.dtype"
   ]
  },
  {
   "cell_type": "code",
   "execution_count": 10,
   "id": "3728c7cd-18e2-44d4-b508-1502a4211863",
   "metadata": {},
   "outputs": [
    {
     "data": {
      "text/html": [
       "<div>\n",
       "<style scoped>\n",
       "    .dataframe tbody tr th:only-of-type {\n",
       "        vertical-align: middle;\n",
       "    }\n",
       "\n",
       "    .dataframe tbody tr th {\n",
       "        vertical-align: top;\n",
       "    }\n",
       "\n",
       "    .dataframe thead th {\n",
       "        text-align: right;\n",
       "    }\n",
       "</style>\n",
       "<table border=\"1\" class=\"dataframe\">\n",
       "  <thead>\n",
       "    <tr style=\"text-align: right;\">\n",
       "      <th></th>\n",
       "      <th>Date</th>\n",
       "      <th>Temperature</th>\n",
       "      <th>Anomaly</th>\n",
       "    </tr>\n",
       "  </thead>\n",
       "  <tbody>\n",
       "    <tr>\n",
       "      <th>0</th>\n",
       "      <td>1895</td>\n",
       "      <td>34.2</td>\n",
       "      <td>-3.2</td>\n",
       "    </tr>\n",
       "    <tr>\n",
       "      <th>1</th>\n",
       "      <td>1896</td>\n",
       "      <td>34.7</td>\n",
       "      <td>-2.7</td>\n",
       "    </tr>\n",
       "    <tr>\n",
       "      <th>2</th>\n",
       "      <td>1897</td>\n",
       "      <td>35.5</td>\n",
       "      <td>-1.9</td>\n",
       "    </tr>\n",
       "    <tr>\n",
       "      <th>3</th>\n",
       "      <td>1898</td>\n",
       "      <td>39.6</td>\n",
       "      <td>2.2</td>\n",
       "    </tr>\n",
       "    <tr>\n",
       "      <th>4</th>\n",
       "      <td>1899</td>\n",
       "      <td>36.4</td>\n",
       "      <td>-1.0</td>\n",
       "    </tr>\n",
       "  </tbody>\n",
       "</table>\n",
       "</div>"
      ],
      "text/plain": [
       "   Date  Temperature  Anomaly\n",
       "0  1895         34.2     -3.2\n",
       "1  1896         34.7     -2.7\n",
       "2  1897         35.5     -1.9\n",
       "3  1898         39.6      2.2\n",
       "4  1899         36.4     -1.0"
      ]
     },
     "execution_count": 10,
     "metadata": {},
     "output_type": "execute_result"
    }
   ],
   "source": [
    "# Divide 'Date' by 100 to truncate the last two digits\n",
    "nyc.Date = nyc.Date.floordiv(100)\n",
    "nyc.head()"
   ]
  },
  {
   "cell_type": "markdown",
   "id": "173d1853-ea47-4df4-abcd-c75efca7ea30",
   "metadata": {},
   "source": [
    "### <span style=\"color: red;\">SECTION 4 - DESCRIBE</span>"
   ]
  },
  {
   "cell_type": "code",
   "execution_count": 11,
   "id": "1daa6cfa-1b15-4c6e-a7dc-0a5c84802061",
   "metadata": {},
   "outputs": [],
   "source": [
    "# Set the display precision to 2 decimal places\n",
    "pd.set_option('display.precision', 2)"
   ]
  },
  {
   "cell_type": "code",
   "execution_count": 12,
   "id": "551a16ae-9b16-4e97-9e95-bb2c5689e456",
   "metadata": {},
   "outputs": [
    {
     "data": {
      "text/plain": [
       "count    124.00\n",
       "mean      37.60\n",
       "std        4.54\n",
       "min       26.10\n",
       "25%       34.58\n",
       "50%       37.60\n",
       "75%       40.60\n",
       "max       47.60\n",
       "Name: Temperature, dtype: float64"
      ]
     },
     "execution_count": 12,
     "metadata": {},
     "output_type": "execute_result"
    }
   ],
   "source": [
    "# Call describe on the Temperature column to calculate basis descriptive statisitics\n",
    "nyc.Temperature.describe()"
   ]
  },
  {
   "cell_type": "markdown",
   "id": "5dcbcae2-a4b6-4db6-91cd-ab041100d785",
   "metadata": {},
   "source": [
    "### <span style=\"color: red;\">SECTION 5 - CALCULATE LINE</span>"
   ]
  },
  {
   "cell_type": "code",
   "execution_count": 13,
   "id": "5d2eeed6-c8fc-41fc-8aa9-36ff154bb80c",
   "metadata": {},
   "outputs": [],
   "source": [
    "# Import the stats module from the SciPy library so we can use the linregress function\n",
    "from scipy import stats"
   ]
  },
  {
   "cell_type": "code",
   "execution_count": 14,
   "id": "58be68cf-fb4a-4aca-a8af-3a28c73c79fd",
   "metadata": {},
   "outputs": [],
   "source": [
    "# Calculate the regression line where x = Date and y = Temperature\n",
    "linear_regression = stats.linregress(x=nyc.Date, y=nyc.Temperature)"
   ]
  },
  {
   "cell_type": "code",
   "execution_count": 15,
   "id": "93b8f078-e2fe-4e48-95b8-3cbabf1a4dd0",
   "metadata": {},
   "outputs": [
    {
     "data": {
      "text/plain": [
       "0.014771361132966163"
      ]
     },
     "execution_count": 15,
     "metadata": {},
     "output_type": "execute_result"
    }
   ],
   "source": [
    "# Display the regression line's slope\n",
    "linear_regression.slope"
   ]
  },
  {
   "cell_type": "code",
   "execution_count": 16,
   "id": "e12b68d0-27d9-4a77-b3b9-e73efc7f09a2",
   "metadata": {},
   "outputs": [
    {
     "data": {
      "text/plain": [
       "8.694993233674289"
      ]
     },
     "execution_count": 16,
     "metadata": {},
     "output_type": "execute_result"
    }
   ],
   "source": [
    "# Diplay the regression line's intercept\n",
    "linear_regression.intercept"
   ]
  },
  {
   "cell_type": "markdown",
   "id": "15de89e8-df93-45e6-871d-8d09182a3d80",
   "metadata": {},
   "source": [
    "### <span style=\"color: red;\">SECTION 6 - PREDICT</span>"
   ]
  },
  {
   "cell_type": "code",
   "execution_count": 17,
   "id": "ea17f96c-4074-4234-8c18-9cca1024a6b5",
   "metadata": {},
   "outputs": [
    {
     "name": "stdout",
     "output_type": "stream",
     "text": [
      "The predicted average high temperature in January 2026 is 38.62 degrees Fahrenheit\n"
     ]
    }
   ],
   "source": [
    "# Predict the average high temperature in January for the year 2026\n",
    "temp_2026 = linear_regression.slope * 2026 + linear_regression.intercept\n",
    "print(f'The predicted average high temperature in January 2026 is {temp_2026:.2f} degrees Fahrenheit')"
   ]
  },
  {
   "cell_type": "markdown",
   "id": "0c567d38-1dfa-4812-b693-7446ca198f93",
   "metadata": {},
   "source": [
    "### <span style=\"color: red;\">SECTION 7 - PLOT</span>"
   ]
  },
  {
   "cell_type": "code",
   "execution_count": 18,
   "id": "d757a26a-bd42-4da0-ab1d-b2592318e6ba",
   "metadata": {},
   "outputs": [
    {
     "data": {
      "text/plain": [
       "(10.0, 70.0)"
      ]
     },
     "execution_count": 18,
     "metadata": {},
     "output_type": "execute_result"
    },
    {
     "data": {
      "image/png": "[encoded data removed]",
      "text/plain": [
       "<Figure size 640x480 with 1 Axes>"
      ]
     },
     "metadata": {},
     "output_type": "display_data"
    }
   ],
   "source": [
    "# Plot the average high temperatures and a regression line\n",
    "import seaborn as sns\n",
    "sns.set_style('whitegrid')\n",
    "axes = sns.regplot(x=nyc.Date, y=nyc.Temperature)\n",
    "axes.set_ylim(10, 70)"
   ]
  },
  {
   "cell_type": "markdown",
   "id": "b517a850-f304-4f35-9b60-d98c74a0ed57",
   "metadata": {},
   "source": [
    "### <span style=\"color: red;\">BONUS SECTION - PREDICT WHEN</span>"
   ]
  },
  {
   "cell_type": "code",
   "execution_count": 19,
   "id": "49feacf0-ba06-4110-a879-933b8c650946",
   "metadata": {},
   "outputs": [
    {
     "name": "stdout",
     "output_type": "stream",
     "text": [
      "The average high temperature in January is predicted to reach 40 degrees Fahrenheit in 2120.\n"
     ]
    }
   ],
   "source": [
    "# Predict what year the average high temperature in January will reach 40 degrees Fahrenheit\n",
    "year = 2019\n",
    "slope = linear_regression.slope\n",
    "intercept = linear_regression.intercept\n",
    "temperature = slope * year + intercept\n",
    "while temperature < 40.0:\n",
    "    year += 1\n",
    "    temperature = slope * year + intercept\n",
    "\n",
    "print(f'The average high temperature in January is predicted to reach 40 degrees Fahrenheit in {year}.')"
   ]
  },
  {
   "cell_type": "markdown",
   "id": "3c8a45c5-2ae4-402b-8ff7-eabe1bd307c5",
   "metadata": {},
   "source": [
    "## <span style=\"color: blue;\">PART 2 - MACHINE LEARNING</span>"
   ]
  },
  {
   "cell_type": "markdown",
   "id": "cc59fdde-0bf4-48aa-8fdc-b0a34804a014",
   "metadata": {},
   "source": [
    "### <span style=\"color: blue;\">SECTION 1 - SPLIT</span>"
   ]
  },
  {
   "cell_type": "code",
   "execution_count": 20,
   "id": "09830ece-4e0e-4004-8dbf-9487964ff996",
   "metadata": {},
   "outputs": [],
   "source": [
    "# Split the data into training and testing sets\n",
    "from sklearn.model_selection import train_test_split\n",
    "X_train, X_test, y_train, y_test = train_test_split(\n",
    "    nyc.Date.values.reshape(-1, 1), nyc.Temperature.values, random_state=11)"
   ]
  },
  {
   "cell_type": "code",
   "execution_count": 21,
   "id": "734b8449-4198-4376-ae20-35b3419c642e",
   "metadata": {},
   "outputs": [
    {
     "data": {
      "text/plain": [
       "(93, 1)"
      ]
     },
     "execution_count": 21,
     "metadata": {},
     "output_type": "execute_result"
    }
   ],
   "source": [
    "# Confirm the 75%-25% train-test split by checking the shapes of X_train and X_test\n",
    "X_train.shape"
   ]
  },
  {
   "cell_type": "code",
   "execution_count": 22,
   "id": "0b2dff4f-6dc0-400e-8fb9-6c299df83752",
   "metadata": {},
   "outputs": [
    {
     "data": {
      "text/plain": [
       "(31, 1)"
      ]
     },
     "execution_count": 22,
     "metadata": {},
     "output_type": "execute_result"
    }
   ],
   "source": [
    "X_test.shape"
   ]
  },
  {
   "cell_type": "markdown",
   "id": "5066e785-31b7-4092-a9f4-8c457c72ef87",
   "metadata": {},
   "source": [
    "### <span style=\"color: blue;\">SECTION 2 - TRAIN</span>"
   ]
  },
  {
   "cell_type": "code",
   "execution_count": 23,
   "id": "2f921e0e-b74c-4c1b-b121-347ac11bda15",
   "metadata": {},
   "outputs": [
    {
     "data": {
      "text/html": [
       "<style>#sk-container-id-1 {color: black;}#sk-container-id-1 pre{padding: 0;}#sk-container-id-1 div.sk-toggleable {background-color: white;}#sk-container-id-1 label.sk-toggleable__label {cursor: pointer;display: block;width: 100%;margin-bottom: 0;padding: 0.3em;box-sizing: border-box;text-align: center;}#sk-container-id-1 label.sk-toggleable__label-arrow:before {content: \"▸\";float: left;margin-right: 0.25em;color: #696969;}#sk-container-id-1 label.sk-toggleable__label-arrow:hover:before {color: black;}#sk-container-id-1 div.sk-estimator:hover label.sk-toggleable__label-arrow:before {color: black;}#sk-container-id-1 div.sk-toggleable__content {max-height: 0;max-width: 0;overflow: hidden;text-align: left;background-color: #f0f8ff;}#sk-container-id-1 div.sk-toggleable__content pre {margin: 0.2em;color: black;border-radius: 0.25em;background-color: #f0f8ff;}#sk-container-id-1 input.sk-toggleable__control:checked~div.sk-toggleable__content {max-height: 200px;max-width: 100%;overflow: auto;}#sk-container-id-1 input.sk-toggleable__control:checked~label.sk-toggleable__label-arrow:before {content: \"▾\";}#sk-container-id-1 div.sk-estimator input.sk-toggleable__control:checked~label.sk-toggleable__label {background-color: #d4ebff;}#sk-container-id-1 div.sk-label input.sk-toggleable__control:checked~label.sk-toggleable__label {background-color: #d4ebff;}#sk-container-id-1 input.sk-hidden--visually {border: 0;clip: rect(1px 1px 1px 1px);clip: rect(1px, 1px, 1px, 1px);height: 1px;margin: -1px;overflow: hidden;padding: 0;position: absolute;width: 1px;}#sk-container-id-1 div.sk-estimator {font-family: monospace;background-color: #f0f8ff;border: 1px dotted black;border-radius: 0.25em;box-sizing: border-box;margin-bottom: 0.5em;}#sk-container-id-1 div.sk-estimator:hover {background-color: #d4ebff;}#sk-container-id-1 div.sk-parallel-item::after {content: \"\";width: 100%;border-bottom: 1px solid gray;flex-grow: 1;}#sk-container-id-1 div.sk-label:hover label.sk-toggleable__label {background-color: #d4ebff;}#sk-container-id-1 div.sk-serial::before {content: \"\";position: absolute;border-left: 1px solid gray;box-sizing: border-box;top: 0;bottom: 0;left: 50%;z-index: 0;}#sk-container-id-1 div.sk-serial {display: flex;flex-direction: column;align-items: center;background-color: white;padding-right: 0.2em;padding-left: 0.2em;position: relative;}#sk-container-id-1 div.sk-item {position: relative;z-index: 1;}#sk-container-id-1 div.sk-parallel {display: flex;align-items: stretch;justify-content: center;background-color: white;position: relative;}#sk-container-id-1 div.sk-item::before, #sk-container-id-1 div.sk-parallel-item::before {content: \"\";position: absolute;border-left: 1px solid gray;box-sizing: border-box;top: 0;bottom: 0;left: 50%;z-index: -1;}#sk-container-id-1 div.sk-parallel-item {display: flex;flex-direction: column;z-index: 1;position: relative;background-color: white;}#sk-container-id-1 div.sk-parallel-item:first-child::after {align-self: flex-end;width: 50%;}#sk-container-id-1 div.sk-parallel-item:last-child::after {align-self: flex-start;width: 50%;}#sk-container-id-1 div.sk-parallel-item:only-child::after {width: 0;}#sk-container-id-1 div.sk-dashed-wrapped {border: 1px dashed gray;margin: 0 0.4em 0.5em 0.4em;box-sizing: border-box;padding-bottom: 0.4em;background-color: white;}#sk-container-id-1 div.sk-label label {font-family: monospace;font-weight: bold;display: inline-block;line-height: 1.2em;}#sk-container-id-1 div.sk-label-container {text-align: center;}#sk-container-id-1 div.sk-container {/* jupyter's `normalize.less` sets `[hidden] { display: none; }` but bootstrap.min.css set `[hidden] { display: none !important; }` so we also need the `!important` here to be able to override the default hidden behavior on the sphinx rendered scikit-learn.org. See: https://github.com/scikit-learn/scikit-learn/issues/21755 */display: inline-block !important;position: relative;}#sk-container-id-1 div.sk-text-repr-fallback {display: none;}</style><div id=\"sk-container-id-1\" class=\"sk-top-container\"><div class=\"sk-text-repr-fallback\"><pre>LinearRegression()</pre><b>In a Jupyter environment, please rerun this cell to show the HTML representation or trust the notebook. <br />On GitHub, the HTML representation is unable to render, please try loading this page with nbviewer.org.</b></div><div class=\"sk-container\" hidden><div class=\"sk-item\"><div class=\"sk-estimator sk-toggleable\"><input class=\"sk-toggleable__control sk-hidden--visually\" id=\"sk-estimator-id-1\" type=\"checkbox\" checked><label for=\"sk-estimator-id-1\" class=\"sk-toggleable__label sk-toggleable__label-arrow\">LinearRegression</label><div class=\"sk-toggleable__content\"><pre>LinearRegression()</pre></div></div></div></div></div>"
      ],
      "text/plain": [
       "LinearRegression()"
      ]
     },
     "execution_count": 23,
     "metadata": {},
     "output_type": "execute_result"
    }
   ],
   "source": [
    "# Train a LinearRegression estimator\n",
    "from sklearn.linear_model import LinearRegression\n",
    "linear_regression = LinearRegression()\n",
    "linear_regression.fit(X=X_train, y=y_train)"
   ]
  },
  {
   "cell_type": "code",
   "execution_count": 24,
   "id": "cdfd6bdc-b512-444d-aeab-4b83625d0b17",
   "metadata": {},
   "outputs": [
    {
     "data": {
      "text/plain": [
       "array([0.01939167])"
      ]
     },
     "execution_count": 24,
     "metadata": {},
     "output_type": "execute_result"
    }
   ],
   "source": [
    "# Get the slope and intercept used in the y = mx + b calculation to make predictions\n",
    "# Slope, stored in coeff_\n",
    "linear_regression.coef_"
   ]
  },
  {
   "cell_type": "code",
   "execution_count": 25,
   "id": "84281ecd-24a1-49fd-b2bb-f35dee886387",
   "metadata": {},
   "outputs": [
    {
     "data": {
      "text/plain": [
       "-0.30779820252656265"
      ]
     },
     "execution_count": 25,
     "metadata": {},
     "output_type": "execute_result"
    }
   ],
   "source": [
    "# Intercept, stored in intercept_\n",
    "linear_regression.intercept_"
   ]
  },
  {
   "cell_type": "markdown",
   "id": "85a2925b-1d3e-4584-b235-e214e85a2574",
   "metadata": {},
   "source": [
    "### <span style=\"color: blue;\">SECTION 3 - TEST</span>"
   ]
  },
  {
   "cell_type": "code",
   "execution_count": 26,
   "id": "871afc20-5bc6-414c-a6a6-af38720fd877",
   "metadata": {},
   "outputs": [],
   "source": [
    "# Test the model using the data in X_test\n",
    "predicted = linear_regression.predict(X_test)\n",
    "expected = y_test"
   ]
  },
  {
   "cell_type": "code",
   "execution_count": 27,
   "id": "66becfd7-b9f6-4245-aff0-59e8637c31a6",
   "metadata": {},
   "outputs": [
    {
     "name": "stdout",
     "output_type": "stream",
     "text": [
      "predicted: 37.86, expected: 31.70\n",
      "predicted: 38.69, expected: 34.80\n",
      "predicted: 37.00, expected: 39.40\n",
      "predicted: 37.25, expected: 45.70\n",
      "predicted: 38.05, expected: 32.30\n",
      "predicted: 37.64, expected: 33.80\n",
      "predicted: 36.94, expected: 39.70\n"
     ]
    }
   ],
   "source": [
    "# Check some of the predicitons throughout the dataset\n",
    "# Display the predicted and expected values for every fifth element\n",
    "for p, e in zip(predicted[::5], expected[::5]):\n",
    "    print(f'predicted: {p:.2f}, expected: {e:.2f}')"
   ]
  },
  {
   "cell_type": "markdown",
   "id": "5a48e9e6-f303-40d9-93f6-1ec4a61a43a6",
   "metadata": {},
   "source": [
    "### <span style=\"color: blue;\">SECTION 4 - PREDICT AND ESTIMATE</span>"
   ]
  },
  {
   "cell_type": "code",
   "execution_count": 28,
   "id": "a93bd9a7-54b3-4912-8cf4-f3e9788be738",
   "metadata": {},
   "outputs": [
    {
     "data": {
      "text/plain": [
       "array([38.84399018])"
      ]
     },
     "execution_count": 28,
     "metadata": {},
     "output_type": "execute_result"
    }
   ],
   "source": [
    "# Use the coefficient and intercept values to predict the January 2019 average high temperature\n",
    "predict = (lambda x: linear_regression.coef_ * x +\n",
    "                     linear_regression.intercept_)\n",
    "predict(2019)"
   ]
  },
  {
   "cell_type": "code",
   "execution_count": 29,
   "id": "ee5ba56a-c0e4-4071-8fb2-77d00bc9bfb3",
   "metadata": {},
   "outputs": [
    {
     "data": {
      "text/plain": [
       "array([36.34246432])"
      ]
     },
     "execution_count": 29,
     "metadata": {},
     "output_type": "execute_result"
    }
   ],
   "source": [
    "# Estimate what the average high temperature was in January of 1890\n",
    "predict(1890)"
   ]
  },
  {
   "cell_type": "markdown",
   "id": "75f3bcba-cea9-4f27-9740-6f34ee15c74a",
   "metadata": {},
   "source": [
    "### <span style=\"color: blue;\">SECTION 5 - VISUALIZE</span>"
   ]
  },
  {
   "cell_type": "code",
   "execution_count": 30,
   "id": "63882da5-3207-4aed-8d9f-00183b458180",
   "metadata": {},
   "outputs": [
    {
     "data": {
      "image/png": "[encoded data removed]",
      "text/plain": [
       "<Figure size 640x480 with 1 Axes>"
      ]
     },
     "metadata": {},
     "output_type": "display_data"
    }
   ],
   "source": [
    "# Create a scatter plot of the dataset and display the regression line\n",
    "axes = sns.scatterplot(data=nyc, x='Date', y='Temperature',\n",
    "    hue='Temperature', palette='winter', legend=False)\n",
    "axes.set_ylim(10, 70)\n",
    "import numpy as np\n",
    "x = np.array([min(nyc.Date.values), max(nyc.Date.values)])\n",
    "y = predict(x)\n",
    "import matplotlib.pyplot as plt\n",
    "line = plt.plot(x, y)"
   ]
  },
  {
   "cell_type": "markdown",
   "id": "3febb920-130e-4833-9747-7f58657827d0",
   "metadata": {},
   "source": [
    "## CLOSING THOUGHTS\n",
    "The two scatter plots with regression lines we generated appear to be nearly identical, despite the fact\n",
    "we used two different methods to get to those graphs. Using the stats module from SciPy felt similar\n",
    "to calculating a regression line using Microsoft Excel, which I'm familiar with. Using SciKit-Learn was a newer\n",
    "concept for me as the model was more about learning the dataset than just calculating the equation from the dataset."
   ]
  }
 ],
 "metadata": {
  "kernelspec": {
   "display_name": "Python (.venv)",
   "language": "python",
   "name": ".venv"
  },
  "language_info": {
   "codemirror_mode": {
    "name": "ipython",
    "version": 3
   },
   "file_extension": ".py",
   "mimetype": "text/x-python",
   "name": "python",
   "nbconvert_exporter": "python",
   "pygments_lexer": "ipython3",
   "version": "3.11.4"
  }
 },
 "nbformat": 4,
 "nbformat_minor": 5
}
